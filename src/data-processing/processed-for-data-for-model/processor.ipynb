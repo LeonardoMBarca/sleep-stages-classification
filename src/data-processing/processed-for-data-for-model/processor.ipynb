{
 "cells": [
  {
   "cell_type": "code",
   "execution_count": 1,
   "id": "f3a5fd90",
   "metadata": {},
   "outputs": [],
   "source": [
    "import polars as pl\n",
    "import os\n",
    "\n",
    "from pathlib import Path"
   ]
  },
  {
   "cell_type": "code",
   "execution_count": 2,
   "id": "f1e8c010",
   "metadata": {},
   "outputs": [],
   "source": [
    "BASE_PATH = Path().resolve().parents[2]\n",
    "\n",
    "SLEEP_CASSETTE = BASE_PATH / \"datalake\" / \"processed\" / \"sleep-cassette\"\n",
    "SLEEP_TELEMETRY = BASE_PATH / \"datalake\" / \"processed\" / \"sleep-telemetry\"\n",
    "\n",
    "OUT_PATH_CASSETTE = BASE_PATH / \"datalake\" / \"data-for-model\" / \"sleep-cassette.parquet\" \n",
    "OUT_PATH_TELEMETRY = BASE_PATH / \"datalake\" / \"data-for-model\" / \"sleep-telemetry.parquet\" "
   ]
  },
  {
   "cell_type": "code",
   "execution_count": 3,
   "id": "f03d0f01",
   "metadata": {},
   "outputs": [
    {
     "name": "stdout",
     "output_type": "stream",
     "text": [
      "(414961, 252) ['age', 'sex', 'tso_min', 'epoch_idx', 't0_sec', 'stage', 'EEG_Fpz_Cz_delta_pow_256', 'EEG_Fpz_Cz_delta_relpow_256', 'EEG_Fpz_Cz_delta_logpow_256', 'EEG_Fpz_Cz_delta_peakfreq_256', 'EEG_Fpz_Cz_theta_pow_256', 'EEG_Fpz_Cz_theta_relpow_256', 'EEG_Fpz_Cz_theta_logpow_256', 'EEG_Fpz_Cz_theta_peakfreq_256', 'EEG_Fpz_Cz_alpha_pow_256', 'EEG_Fpz_Cz_alpha_relpow_256', 'EEG_Fpz_Cz_alpha_logpow_256', 'EEG_Fpz_Cz_alpha_peakfreq_256', 'EEG_Fpz_Cz_sigma_pow_256', 'EEG_Fpz_Cz_sigma_relpow_256', 'EEG_Fpz_Cz_sigma_logpow_256', 'EEG_Fpz_Cz_sigma_peakfreq_256', 'EEG_Fpz_Cz_beta_pow_256', 'EEG_Fpz_Cz_beta_relpow_256', 'EEG_Fpz_Cz_beta_logpow_256', 'EEG_Fpz_Cz_beta_peakfreq_256', 'EEG_Fpz_Cz_delta_theta_ratio_256', 'EEG_Fpz_Cz_theta_alpha_ratio_256', 'EEG_Fpz_Cz_alpha_sigma_ratio_256', 'EEG_Fpz_Cz_slow_fast_ratio_256', 'EEG_Fpz_Cz_sef95_256', 'EEG_Fpz_Cz_medfreq_256', 'EEG_Fpz_Cz_spec_entropy_256', 'EEG_Fpz_Cz_aperiodic_slope_256', 'EEG_Fpz_Cz_delta_pow_512', 'EEG_Fpz_Cz_delta_relpow_512', 'EEG_Fpz_Cz_delta_logpow_512', 'EEG_Fpz_Cz_delta_peakfreq_512', 'EEG_Fpz_Cz_theta_pow_512', 'EEG_Fpz_Cz_theta_relpow_512', 'EEG_Fpz_Cz_theta_logpow_512', 'EEG_Fpz_Cz_theta_peakfreq_512', 'EEG_Fpz_Cz_alpha_pow_512', 'EEG_Fpz_Cz_alpha_relpow_512', 'EEG_Fpz_Cz_alpha_logpow_512', 'EEG_Fpz_Cz_alpha_peakfreq_512', 'EEG_Fpz_Cz_sigma_pow_512', 'EEG_Fpz_Cz_sigma_relpow_512', 'EEG_Fpz_Cz_sigma_logpow_512', 'EEG_Fpz_Cz_sigma_peakfreq_512', 'EEG_Fpz_Cz_beta_pow_512', 'EEG_Fpz_Cz_beta_relpow_512', 'EEG_Fpz_Cz_beta_logpow_512', 'EEG_Fpz_Cz_beta_peakfreq_512', 'EEG_Fpz_Cz_delta_theta_ratio_512', 'EEG_Fpz_Cz_theta_alpha_ratio_512', 'EEG_Fpz_Cz_alpha_sigma_ratio_512', 'EEG_Fpz_Cz_slow_fast_ratio_512', 'EEG_Fpz_Cz_sef95_512', 'EEG_Fpz_Cz_medfreq_512', 'EEG_Fpz_Cz_spec_entropy_512', 'EEG_Fpz_Cz_aperiodic_slope_512', 'EEG_Fpz_Cz_rms', 'EEG_Fpz_Cz_var', 'EEG_Pz_Oz_delta_pow_256', 'EEG_Pz_Oz_delta_relpow_256', 'EEG_Pz_Oz_delta_logpow_256', 'EEG_Pz_Oz_delta_peakfreq_256', 'EEG_Pz_Oz_theta_pow_256', 'EEG_Pz_Oz_theta_relpow_256', 'EEG_Pz_Oz_theta_logpow_256', 'EEG_Pz_Oz_theta_peakfreq_256', 'EEG_Pz_Oz_alpha_pow_256', 'EEG_Pz_Oz_alpha_relpow_256', 'EEG_Pz_Oz_alpha_logpow_256', 'EEG_Pz_Oz_alpha_peakfreq_256', 'EEG_Pz_Oz_sigma_pow_256', 'EEG_Pz_Oz_sigma_relpow_256', 'EEG_Pz_Oz_sigma_logpow_256', 'EEG_Pz_Oz_sigma_peakfreq_256', 'EEG_Pz_Oz_beta_pow_256', 'EEG_Pz_Oz_beta_relpow_256', 'EEG_Pz_Oz_beta_logpow_256', 'EEG_Pz_Oz_beta_peakfreq_256', 'EEG_Pz_Oz_delta_theta_ratio_256', 'EEG_Pz_Oz_theta_alpha_ratio_256', 'EEG_Pz_Oz_alpha_sigma_ratio_256', 'EEG_Pz_Oz_slow_fast_ratio_256', 'EEG_Pz_Oz_sef95_256', 'EEG_Pz_Oz_medfreq_256', 'EEG_Pz_Oz_spec_entropy_256', 'EEG_Pz_Oz_aperiodic_slope_256', 'EEG_Pz_Oz_delta_pow_512', 'EEG_Pz_Oz_delta_relpow_512', 'EEG_Pz_Oz_delta_logpow_512', 'EEG_Pz_Oz_delta_peakfreq_512', 'EEG_Pz_Oz_theta_pow_512', 'EEG_Pz_Oz_theta_relpow_512', 'EEG_Pz_Oz_theta_logpow_512', 'EEG_Pz_Oz_theta_peakfreq_512', 'EEG_Pz_Oz_alpha_pow_512', 'EEG_Pz_Oz_alpha_relpow_512', 'EEG_Pz_Oz_alpha_logpow_512', 'EEG_Pz_Oz_alpha_peakfreq_512', 'EEG_Pz_Oz_sigma_pow_512', 'EEG_Pz_Oz_sigma_relpow_512', 'EEG_Pz_Oz_sigma_logpow_512', 'EEG_Pz_Oz_sigma_peakfreq_512', 'EEG_Pz_Oz_beta_pow_512', 'EEG_Pz_Oz_beta_relpow_512', 'EEG_Pz_Oz_beta_logpow_512', 'EEG_Pz_Oz_beta_peakfreq_512', 'EEG_Pz_Oz_delta_theta_ratio_512', 'EEG_Pz_Oz_theta_alpha_ratio_512', 'EEG_Pz_Oz_alpha_sigma_ratio_512', 'EEG_Pz_Oz_slow_fast_ratio_512', 'EEG_Pz_Oz_sef95_512', 'EEG_Pz_Oz_medfreq_512', 'EEG_Pz_Oz_spec_entropy_512', 'EEG_Pz_Oz_aperiodic_slope_512', 'EEG_Pz_Oz_rms', 'EEG_Pz_Oz_var', 'EOG_delta_pow_256', 'EOG_delta_relpow_256', 'EOG_delta_logpow_256', 'EOG_delta_peakfreq_256', 'EOG_theta_pow_256', 'EOG_theta_relpow_256', 'EOG_theta_logpow_256', 'EOG_theta_peakfreq_256', 'EOG_alpha_pow_256', 'EOG_alpha_relpow_256', 'EOG_alpha_logpow_256', 'EOG_alpha_peakfreq_256', 'EOG_sigma_pow_256', 'EOG_sigma_relpow_256', 'EOG_sigma_logpow_256', 'EOG_sigma_peakfreq_256', 'EOG_beta_pow_256', 'EOG_beta_relpow_256', 'EOG_beta_logpow_256', 'EOG_beta_peakfreq_256', 'EOG_delta_theta_ratio_256', 'EOG_theta_alpha_ratio_256', 'EOG_alpha_sigma_ratio_256', 'EOG_slow_fast_ratio_256', 'EOG_sef95_256', 'EOG_medfreq_256', 'EOG_spec_entropy_256', 'EOG_aperiodic_slope_256', 'EOG_delta_pow_512', 'EOG_delta_relpow_512', 'EOG_delta_logpow_512', 'EOG_delta_peakfreq_512', 'EOG_theta_pow_512', 'EOG_theta_relpow_512', 'EOG_theta_logpow_512', 'EOG_theta_peakfreq_512', 'EOG_alpha_pow_512', 'EOG_alpha_relpow_512', 'EOG_alpha_logpow_512', 'EOG_alpha_peakfreq_512', 'EOG_sigma_pow_512', 'EOG_sigma_relpow_512', 'EOG_sigma_logpow_512', 'EOG_sigma_peakfreq_512', 'EOG_beta_pow_512', 'EOG_beta_relpow_512', 'EOG_beta_logpow_512', 'EOG_beta_peakfreq_512', 'EOG_delta_theta_ratio_512', 'EOG_theta_alpha_ratio_512', 'EOG_alpha_sigma_ratio_512', 'EOG_slow_fast_ratio_512', 'EOG_sef95_512', 'EOG_medfreq_512', 'EOG_spec_entropy_512', 'EOG_aperiodic_slope_512', 'EOG_rms', 'EOG_var', 'EMG_submental_mean_1hz', 'EMG_submental_std_1hz', 'EMG_submental_min_1hz', 'EMG_submental_max_1hz', 'EMG_submental_rms_1hz', 'EMG_submental_slope_1hz', 'EMG_submental_median_1hz', 'EMG_submental_iqr_1hz', 'EMG_submental_mad_1hz', 'EMG_submental_p01_1hz', 'EMG_submental_p10_1hz', 'EMG_submental_p90_1hz', 'EMG_submental_p99_1hz', 'EMG_submental_kurtosis_1hz', 'EMG_submental_skewness_1hz', 'EMG_submental_diff_rms_1hz', 'EMG_submental_zcr_1hz', 'Resp_oronasal_mean_1hz', 'Resp_oronasal_std_1hz', 'Resp_oronasal_min_1hz', 'Resp_oronasal_max_1hz', 'Resp_oronasal_rms_1hz', 'Resp_oronasal_slope_1hz', 'Resp_oronasal_median_1hz', 'Resp_oronasal_iqr_1hz', 'Resp_oronasal_mad_1hz', 'Resp_oronasal_p01_1hz', 'Resp_oronasal_p10_1hz', 'Resp_oronasal_p90_1hz', 'Resp_oronasal_p99_1hz', 'Resp_oronasal_kurtosis_1hz', 'Resp_oronasal_skewness_1hz', 'Resp_oronasal_diff_rms_1hz', 'Resp_oronasal_zcr_1hz', 'Resp_oronasal_clip_frac_1hz', 'Temp_rectal_mean_1hz', 'Temp_rectal_std_1hz', 'Temp_rectal_min_1hz', 'Temp_rectal_max_1hz', 'Temp_rectal_rms_1hz', 'Temp_rectal_slope_1hz', 'Temp_rectal_median_1hz', 'Temp_rectal_iqr_1hz', 'Temp_rectal_mad_1hz', 'Temp_rectal_p01_1hz', 'Temp_rectal_p10_1hz', 'Temp_rectal_p90_1hz', 'Temp_rectal_p99_1hz', 'Temp_rectal_kurtosis_1hz', 'Temp_rectal_skewness_1hz', 'Temp_rectal_diff_rms_1hz', 'Temp_rectal_zcr_1hz', 'Temp_rectal_oor_frac_1hz', 'Event_marker_mean_1hz', 'Event_marker_std_1hz', 'Event_marker_min_1hz', 'Event_marker_max_1hz', 'Event_marker_rms_1hz', 'Event_marker_slope_1hz', 'Event_marker_median_1hz', 'Event_marker_iqr_1hz', 'Event_marker_mad_1hz', 'Event_marker_p01_1hz', 'Event_marker_p10_1hz', 'Event_marker_p90_1hz', 'Event_marker_p99_1hz', 'Event_marker_kurtosis_1hz', 'Event_marker_skewness_1hz', 'Event_marker_diff_rms_1hz', 'Event_marker_zcr_1hz', 'subject_id', 'night_id']\n",
      "(35688, 257) ['age', 'sex', 'tso_min', 'epoch_idx', 't0_sec', 'stage', 'EEG_Fpz_Cz_delta_pow_256', 'EEG_Fpz_Cz_delta_relpow_256', 'EEG_Fpz_Cz_delta_logpow_256', 'EEG_Fpz_Cz_delta_peakfreq_256', 'EEG_Fpz_Cz_theta_pow_256', 'EEG_Fpz_Cz_theta_relpow_256', 'EEG_Fpz_Cz_theta_logpow_256', 'EEG_Fpz_Cz_theta_peakfreq_256', 'EEG_Fpz_Cz_alpha_pow_256', 'EEG_Fpz_Cz_alpha_relpow_256', 'EEG_Fpz_Cz_alpha_logpow_256', 'EEG_Fpz_Cz_alpha_peakfreq_256', 'EEG_Fpz_Cz_sigma_pow_256', 'EEG_Fpz_Cz_sigma_relpow_256', 'EEG_Fpz_Cz_sigma_logpow_256', 'EEG_Fpz_Cz_sigma_peakfreq_256', 'EEG_Fpz_Cz_beta_pow_256', 'EEG_Fpz_Cz_beta_relpow_256', 'EEG_Fpz_Cz_beta_logpow_256', 'EEG_Fpz_Cz_beta_peakfreq_256', 'EEG_Fpz_Cz_delta_theta_ratio_256', 'EEG_Fpz_Cz_theta_alpha_ratio_256', 'EEG_Fpz_Cz_alpha_sigma_ratio_256', 'EEG_Fpz_Cz_slow_fast_ratio_256', 'EEG_Fpz_Cz_sef95_256', 'EEG_Fpz_Cz_medfreq_256', 'EEG_Fpz_Cz_spec_entropy_256', 'EEG_Fpz_Cz_aperiodic_slope_256', 'EEG_Fpz_Cz_delta_pow_512', 'EEG_Fpz_Cz_delta_relpow_512', 'EEG_Fpz_Cz_delta_logpow_512', 'EEG_Fpz_Cz_delta_peakfreq_512', 'EEG_Fpz_Cz_theta_pow_512', 'EEG_Fpz_Cz_theta_relpow_512', 'EEG_Fpz_Cz_theta_logpow_512', 'EEG_Fpz_Cz_theta_peakfreq_512', 'EEG_Fpz_Cz_alpha_pow_512', 'EEG_Fpz_Cz_alpha_relpow_512', 'EEG_Fpz_Cz_alpha_logpow_512', 'EEG_Fpz_Cz_alpha_peakfreq_512', 'EEG_Fpz_Cz_sigma_pow_512', 'EEG_Fpz_Cz_sigma_relpow_512', 'EEG_Fpz_Cz_sigma_logpow_512', 'EEG_Fpz_Cz_sigma_peakfreq_512', 'EEG_Fpz_Cz_beta_pow_512', 'EEG_Fpz_Cz_beta_relpow_512', 'EEG_Fpz_Cz_beta_logpow_512', 'EEG_Fpz_Cz_beta_peakfreq_512', 'EEG_Fpz_Cz_delta_theta_ratio_512', 'EEG_Fpz_Cz_theta_alpha_ratio_512', 'EEG_Fpz_Cz_alpha_sigma_ratio_512', 'EEG_Fpz_Cz_slow_fast_ratio_512', 'EEG_Fpz_Cz_sef95_512', 'EEG_Fpz_Cz_medfreq_512', 'EEG_Fpz_Cz_spec_entropy_512', 'EEG_Fpz_Cz_aperiodic_slope_512', 'EEG_Fpz_Cz_rms', 'EEG_Fpz_Cz_var', 'EEG_Pz_Oz_delta_pow_256', 'EEG_Pz_Oz_delta_relpow_256', 'EEG_Pz_Oz_delta_logpow_256', 'EEG_Pz_Oz_delta_peakfreq_256', 'EEG_Pz_Oz_theta_pow_256', 'EEG_Pz_Oz_theta_relpow_256', 'EEG_Pz_Oz_theta_logpow_256', 'EEG_Pz_Oz_theta_peakfreq_256', 'EEG_Pz_Oz_alpha_pow_256', 'EEG_Pz_Oz_alpha_relpow_256', 'EEG_Pz_Oz_alpha_logpow_256', 'EEG_Pz_Oz_alpha_peakfreq_256', 'EEG_Pz_Oz_sigma_pow_256', 'EEG_Pz_Oz_sigma_relpow_256', 'EEG_Pz_Oz_sigma_logpow_256', 'EEG_Pz_Oz_sigma_peakfreq_256', 'EEG_Pz_Oz_beta_pow_256', 'EEG_Pz_Oz_beta_relpow_256', 'EEG_Pz_Oz_beta_logpow_256', 'EEG_Pz_Oz_beta_peakfreq_256', 'EEG_Pz_Oz_delta_theta_ratio_256', 'EEG_Pz_Oz_theta_alpha_ratio_256', 'EEG_Pz_Oz_alpha_sigma_ratio_256', 'EEG_Pz_Oz_slow_fast_ratio_256', 'EEG_Pz_Oz_sef95_256', 'EEG_Pz_Oz_medfreq_256', 'EEG_Pz_Oz_spec_entropy_256', 'EEG_Pz_Oz_aperiodic_slope_256', 'EEG_Pz_Oz_delta_pow_512', 'EEG_Pz_Oz_delta_relpow_512', 'EEG_Pz_Oz_delta_logpow_512', 'EEG_Pz_Oz_delta_peakfreq_512', 'EEG_Pz_Oz_theta_pow_512', 'EEG_Pz_Oz_theta_relpow_512', 'EEG_Pz_Oz_theta_logpow_512', 'EEG_Pz_Oz_theta_peakfreq_512', 'EEG_Pz_Oz_alpha_pow_512', 'EEG_Pz_Oz_alpha_relpow_512', 'EEG_Pz_Oz_alpha_logpow_512', 'EEG_Pz_Oz_alpha_peakfreq_512', 'EEG_Pz_Oz_sigma_pow_512', 'EEG_Pz_Oz_sigma_relpow_512', 'EEG_Pz_Oz_sigma_logpow_512', 'EEG_Pz_Oz_sigma_peakfreq_512', 'EEG_Pz_Oz_beta_pow_512', 'EEG_Pz_Oz_beta_relpow_512', 'EEG_Pz_Oz_beta_logpow_512', 'EEG_Pz_Oz_beta_peakfreq_512', 'EEG_Pz_Oz_delta_theta_ratio_512', 'EEG_Pz_Oz_theta_alpha_ratio_512', 'EEG_Pz_Oz_alpha_sigma_ratio_512', 'EEG_Pz_Oz_slow_fast_ratio_512', 'EEG_Pz_Oz_sef95_512', 'EEG_Pz_Oz_medfreq_512', 'EEG_Pz_Oz_spec_entropy_512', 'EEG_Pz_Oz_aperiodic_slope_512', 'EEG_Pz_Oz_rms', 'EEG_Pz_Oz_var', 'EOG_delta_pow_256', 'EOG_delta_relpow_256', 'EOG_delta_logpow_256', 'EOG_delta_peakfreq_256', 'EOG_theta_pow_256', 'EOG_theta_relpow_256', 'EOG_theta_logpow_256', 'EOG_theta_peakfreq_256', 'EOG_alpha_pow_256', 'EOG_alpha_relpow_256', 'EOG_alpha_logpow_256', 'EOG_alpha_peakfreq_256', 'EOG_sigma_pow_256', 'EOG_sigma_relpow_256', 'EOG_sigma_logpow_256', 'EOG_sigma_peakfreq_256', 'EOG_beta_pow_256', 'EOG_beta_relpow_256', 'EOG_beta_logpow_256', 'EOG_beta_peakfreq_256', 'EOG_delta_theta_ratio_256', 'EOG_theta_alpha_ratio_256', 'EOG_alpha_sigma_ratio_256', 'EOG_slow_fast_ratio_256', 'EOG_sef95_256', 'EOG_medfreq_256', 'EOG_spec_entropy_256', 'EOG_aperiodic_slope_256', 'EOG_delta_pow_512', 'EOG_delta_relpow_512', 'EOG_delta_logpow_512', 'EOG_delta_peakfreq_512', 'EOG_theta_pow_512', 'EOG_theta_relpow_512', 'EOG_theta_logpow_512', 'EOG_theta_peakfreq_512', 'EOG_alpha_pow_512', 'EOG_alpha_relpow_512', 'EOG_alpha_logpow_512', 'EOG_alpha_peakfreq_512', 'EOG_sigma_pow_512', 'EOG_sigma_relpow_512', 'EOG_sigma_logpow_512', 'EOG_sigma_peakfreq_512', 'EOG_beta_pow_512', 'EOG_beta_relpow_512', 'EOG_beta_logpow_512', 'EOG_beta_peakfreq_512', 'EOG_delta_theta_ratio_512', 'EOG_theta_alpha_ratio_512', 'EOG_alpha_sigma_ratio_512', 'EOG_slow_fast_ratio_512', 'EOG_sef95_512', 'EOG_medfreq_512', 'EOG_spec_entropy_512', 'EOG_aperiodic_slope_512', 'EOG_rms', 'EOG_var', 'EMG_submental_delta_pow_256', 'EMG_submental_delta_relpow_256', 'EMG_submental_delta_logpow_256', 'EMG_submental_delta_peakfreq_256', 'EMG_submental_theta_pow_256', 'EMG_submental_theta_relpow_256', 'EMG_submental_theta_logpow_256', 'EMG_submental_theta_peakfreq_256', 'EMG_submental_alpha_pow_256', 'EMG_submental_alpha_relpow_256', 'EMG_submental_alpha_logpow_256', 'EMG_submental_alpha_peakfreq_256', 'EMG_submental_sigma_pow_256', 'EMG_submental_sigma_relpow_256', 'EMG_submental_sigma_logpow_256', 'EMG_submental_sigma_peakfreq_256', 'EMG_submental_beta_pow_256', 'EMG_submental_beta_relpow_256', 'EMG_submental_beta_logpow_256', 'EMG_submental_beta_peakfreq_256', 'EMG_submental_delta_theta_ratio_256', 'EMG_submental_theta_alpha_ratio_256', 'EMG_submental_alpha_sigma_ratio_256', 'EMG_submental_slow_fast_ratio_256', 'EMG_submental_sef95_256', 'EMG_submental_medfreq_256', 'EMG_submental_spec_entropy_256', 'EMG_submental_aperiodic_slope_256', 'EMG_submental_delta_pow_512', 'EMG_submental_delta_relpow_512', 'EMG_submental_delta_logpow_512', 'EMG_submental_delta_peakfreq_512', 'EMG_submental_theta_pow_512', 'EMG_submental_theta_relpow_512', 'EMG_submental_theta_logpow_512', 'EMG_submental_theta_peakfreq_512', 'EMG_submental_alpha_pow_512', 'EMG_submental_alpha_relpow_512', 'EMG_submental_alpha_logpow_512', 'EMG_submental_alpha_peakfreq_512', 'EMG_submental_sigma_pow_512', 'EMG_submental_sigma_relpow_512', 'EMG_submental_sigma_logpow_512', 'EMG_submental_sigma_peakfreq_512', 'EMG_submental_beta_pow_512', 'EMG_submental_beta_relpow_512', 'EMG_submental_beta_logpow_512', 'EMG_submental_beta_peakfreq_512', 'EMG_submental_delta_theta_ratio_512', 'EMG_submental_theta_alpha_ratio_512', 'EMG_submental_alpha_sigma_ratio_512', 'EMG_submental_slow_fast_ratio_512', 'EMG_submental_sef95_512', 'EMG_submental_medfreq_512', 'EMG_submental_spec_entropy_512', 'EMG_submental_aperiodic_slope_512', 'EMG_submental_rms', 'EMG_submental_var', 'Event_marker_mean_10hz', 'Event_marker_std_10hz', 'Event_marker_min_10hz', 'Event_marker_max_10hz', 'Event_marker_rms_10hz', 'Event_marker_slope_10hz', 'Event_marker_median_10hz', 'Event_marker_iqr_10hz', 'Event_marker_mad_10hz', 'Event_marker_p01_10hz', 'Event_marker_p10_10hz', 'Event_marker_p90_10hz', 'Event_marker_p99_10hz', 'Event_marker_kurtosis_10hz', 'Event_marker_skewness_10hz', 'Event_marker_diff_rms_10hz', 'Event_marker_zcr_10hz', 'subject_id', 'night_id']\n"
     ]
    }
   ],
   "source": [
    "def load_sleep_cassette(root: Path, add_from_path: bool = True,  keep_file: bool = False) -> pl.DataFrame:\n",
    "    try:\n",
    "        files = sorted(root.rglob(\"*.parquet\"))\n",
    "        if not files:\n",
    "            raise FileNotFoundError(f\"No .parquet finded in {root}\")\n",
    "        \n",
    "        paths = [str(p) for p in files]\n",
    "        \n",
    "        lf = pl.concat(\n",
    "            [\n",
    "                pl.read_parquet(p).with_columns(pl.lit(p).alias(\"file\"))\n",
    "                for p in paths\n",
    "            ],\n",
    "            how=\"vertical_relaxed\",\n",
    "        ).lazy()\n",
    "\n",
    "        if add_from_path:\n",
    "            lf = lf.drop([\"subject_id\", \"night_id\"], strict=False).with_columns([\n",
    "                pl.col(\"file\").str.extract(r\"subject_id=([^/\\\\]+)\", group_index=1).alias(\"subject_id\"),\n",
    "                pl.col(\"file\").str.extract(r\"(N\\d)\\.parquet$\", group_index=1).alias(\"night_id\"),\n",
    "            ])\n",
    "            if not keep_file:\n",
    "                lf = lf.drop(\"file\", strict=False)\n",
    "\n",
    "\n",
    "        df = lf.collect(engine=\"streaming\")\n",
    "\n",
    "        return df\n",
    "\n",
    "    except Exception as e:\n",
    "        print(f\"ERROR: {e}\")\n",
    "\n",
    "df_cassette = load_sleep_cassette(SLEEP_CASSETTE, True)\n",
    "df_telemetry = load_sleep_cassette(SLEEP_TELEMETRY, True)\n",
    "\n",
    "print(df_cassette.shape, df_cassette.columns)\n",
    "print(df_telemetry.shape, df_telemetry.columns)"
   ]
  },
  {
   "cell_type": "code",
   "execution_count": 4,
   "id": "9679adbc",
   "metadata": {},
   "outputs": [],
   "source": [
    "META = [\n",
    "    \"subject_id\", \"night_id\", \"epoch_idx\", \"t0_sec\", \"stage\",\n",
    "    \"age\", \"sex\", \"tso_min\",\n",
    "]\n",
    "\n",
    "EEG_CORE = [\n",
    "    \"EEG_Pz_Oz_beta_relpow_256\",\n",
    "    \"EEG_Pz_Oz_delta_relpow_256\",\n",
    "    \"EEG_Fpz_Cz_sigma_relpow_256\",\n",
    "    \"EEG_Fpz_Cz_theta_relpow_256\",\n",
    "    \"EEG_Pz_Oz_alpha_relpow_256\",\n",
    "]\n",
    "\n",
    "EEG_RATIOS = [\n",
    "    \"EEG_Fpz_Cz_slow_fast_ratio_256\",\n",
    "    \"EEG_Pz_Oz_slow_fast_ratio_256\",\n",
    "    \"EEG_Fpz_Cz_delta_theta_ratio_256\",\n",
    "    \"EEG_Pz_Oz_theta_alpha_ratio_256\",\n",
    "    \"EEG_Fpz_Cz_alpha_sigma_ratio_256\",\n",
    "]\n",
    "EEG_DESCR = [\n",
    "    \"EEG_Fpz_Cz_aperiodic_slope_256\",\n",
    "    \"EEG_Pz_Oz_aperiodic_slope_256\",\n",
    "    \"EEG_Pz_Oz_spec_entropy_256\",\n",
    "]\n",
    "\n",
    "EOG_CORE = [\n",
    "    \"EOG_rms\",\n",
    "    \"EOG_beta_relpow_256\",\n",
    "    \"EOG_delta_relpow_256\",\n",
    "    \"EOG_sef95_256\",\n",
    "]\n",
    "\n",
    "EMG_CORE = [\n",
    "    \"EMG_submental_p90_1hz\",\n",
    "    \"EMG_submental_rms_1hz\",\n",
    "    \"EMG_submental_iqr_1hz\",\n",
    "]\n",
    "\n",
    "OPTIONAL = [\n",
    "    \"EEG_Fpz_Cz_beta_relpow_256\",\n",
    "    \"EEG_Fpz_Cz_alpha_relpow_256\",\n",
    "    \"EOG_theta_relpow_256\",\n",
    "    \"EMG_submental_median_1hz\",\n",
    "    \"EMG_submental_mad_1hz\",\n",
    "]\n",
    "\n",
    "def present(df: pl.DataFrame, cols: list[str]) -> list[str]:\n",
    "    s = set(df.columns)\n",
    "    return [c for c in cols if c in s]\n",
    "\n",
    "KEEP = META + EEG_CORE + EEG_RATIOS + EEG_DESCR + EOG_CORE + EMG_CORE\n",
    "KEEP += OPTIONAL  # <- Remove this lines if you want without the optional columns\n",
    "\n",
    "final_cols_cassette = present(df_cassette, KEEP)\n",
    "final_cols_telemetry = present(df_telemetry, KEEP)\n",
    "\n",
    "\n",
    "final_parquet_file_cassette = df_cassette.select(final_cols_cassette)\n",
    "final_parquet_file_telemetry = df_telemetry.select(final_cols_telemetry)"
   ]
  },
  {
   "cell_type": "code",
   "execution_count": 5,
   "id": "859a98d9",
   "metadata": {},
   "outputs": [],
   "source": [
    "final_parquet_file_cassette.write_parquet(OUT_PATH_CASSETTE)\n",
    "final_parquet_file_telemetry.write_parquet(OUT_PATH_TELEMETRY)"
   ]
  }
 ],
 "metadata": {
  "kernelspec": {
   "display_name": "base",
   "language": "python",
   "name": "python3"
  },
  "language_info": {
   "codemirror_mode": {
    "name": "ipython",
    "version": 3
   },
   "file_extension": ".py",
   "mimetype": "text/x-python",
   "name": "python",
   "nbconvert_exporter": "python",
   "pygments_lexer": "ipython3",
   "version": "3.13.5"
  }
 },
 "nbformat": 4,
 "nbformat_minor": 5
}
