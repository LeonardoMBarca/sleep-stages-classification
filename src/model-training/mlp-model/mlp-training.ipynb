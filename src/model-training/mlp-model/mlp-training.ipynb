{
 "cells": [
  {
   "cell_type": "code",
   "execution_count": null,
   "id": "7447e357",
   "metadata": {},
   "outputs": [],
   "source": [
    "import pandas as pd\n",
    "import numpy as np\n",
    "from pathlib import Path\n",
    "from typing import Dict, List"
   ]
  },
  {
   "cell_type": "code",
   "execution_count": 28,
   "id": "b4444a8e",
   "metadata": {},
   "outputs": [],
   "source": [
    "BASE_PATH = Path().resolve().parents[2]\n",
    "DATASETS_PATH = BASE_PATH / \"datalake\" / \"data-for-model\"\n",
    "TRAINING_DATA_FILE = DATASETS_PATH / \"sleep-cassette.parquet\" "
   ]
  },
  {
   "cell_type": "code",
   "execution_count": 29,
   "id": "6842441c",
   "metadata": {},
   "outputs": [],
   "source": [
    "df = pd.read_parquet(TRAINING_DATA_FILE, engine=\"fastparquet\")"
   ]
  },
  {
   "cell_type": "code",
   "execution_count": null,
   "id": "e925373a",
   "metadata": {},
   "outputs": [],
   "source": [
    "def bin_idade(s: pd.Series,\n",
    "              bins=(0, 40, 60, 120),\n",
    "              labels=(\"≤40\", \"41–60\", \"≥61\")) -> pd.Categorical:\n",
    "    return pd.cut(pd.to_numeric(s, errors=\"coerce\"), bins=bins, labels=labels, include_lowest=True, right=True)\n",
    "\n",
    "def subject_level_table(df: pd.DataFrame,\n",
    "                        age_bins=(0, 40, 60, 120),\n",
    "                        age_labels=(\"≤40\", \"41–60\", \"≥61\")) -> pd.DataFrame:\n",
    "    sdf = (df.groupby(\"subject_id\")\n",
    "             .agg(sex=(\"sex\", lambda x: x.astype(str).mode().iat[0]),\n",
    "                  age=(\"age\", lambda x: pd.to_numeric(x, errors=\"coerce\").dropna().astype(float).median()))\n",
    "             .reset_index())\n",
    "    sdf[\"age_bin\"] = bin_idade(sdf[\"age\"], bins=age_bins, labels=age_labels)\n",
    "    return sdf\n",
    "\n",
    "def hamilton_round(counts_float: Dict[str, float], total_int: int) -> Dict[str, int]:\n",
    "    base = {k: int(np.floor(v)) for k, v in counts_float.items()}\n",
    "    rem = total_int - sum(base.values())\n",
    "    fracs = sorted(((k, counts_float[k] - base[k]) for k in counts_float),\n",
    "                   key=lambda kv: kv[1], reverse=True)\n",
    "    i = 0\n",
    "    while rem > 0 and i < len(fracs):\n",
    "        base[fracs[i][0]] += 1\n",
    "        rem -= 1\n",
    "        i += 1\n",
    "    return base\n",
    "\n",
    "def stratified_subject_split_by_quotas(\n",
    "    df: pd.DataFrame,\n",
    "    ratios: Dict[str, float] = {\"train\": 0.6, \"val\": 0.2, \"test\": 0.2},\n",
    "    age_bins=(0, 40, 60, 120),\n",
    "    age_labels=(\"≤40\", \"41–60\", \"≥61\"),\n",
    "    random_state: int = 42,\n",
    ") -> Dict[str, List[str]]:\n",
    "    rng = np.random.default_rng(random_state)\n",
    "\n",
    "    sdf = subject_level_table(df, age_bins=age_bins, age_labels=age_labels)\n",
    "    sdf[\"sex\"] = sdf[\"sex\"].astype(str)\n",
    "    sdf[\"age_bin\"] = sdf[\"age_bin\"].astype(\"category\")\n",
    "\n",
    "    assign: Dict[str, List[str]] = {k: [] for k in ratios}\n",
    "\n",
    "    for (sex, ageb), grp in sdf.groupby([\"sex\", \"age_bin\"], observed=True):\n",
    "        subjects = grp[\"subject_id\"].tolist()\n",
    "        rng.shuffle(subjects)  \n",
    "\n",
    "        Ns = len(subjects)\n",
    "        if Ns == 0:\n",
    "            continue\n",
    "\n",
    "        desired_float = {k: v * Ns for k, v in ratios.items()}\n",
    "        desired_int = hamilton_round(desired_float, total_int=Ns)\n",
    "\n",
    "        start = 0\n",
    "        for split, q in desired_int.items():\n",
    "            if q <= 0:\n",
    "                continue\n",
    "            assign[split].extend(subjects[start:start+q])\n",
    "            start += q\n",
    "\n",
    "    all_assigned = sum((assign[k] for k in assign), [])\n",
    "    assert len(all_assigned) == len(set(all_assigned)), \"Leakage: sujeito em múltiplos splits\"\n",
    "    assert set(all_assigned) == set(sdf[\"subject_id\"]), \"Faltam sujeitos alocados\"\n",
    "\n",
    "    return assign\n",
    "\n",
    "def indices_from_subject_assign(df: pd.DataFrame, assign: Dict[str, List[str]]) -> Dict[str, np.ndarray]:\n",
    "    out = {}\n",
    "    for split, subs in assign.items():\n",
    "        mask = df[\"subject_id\"].isin(subs).values\n",
    "        out[split] = np.where(mask)[0]\n",
    "    return out\n"
   ]
  },
  {
   "cell_type": "code",
   "execution_count": null,
   "id": "6c6870d4",
   "metadata": {},
   "outputs": [],
   "source": [
    "assign = stratified_subject_split_by_quotas(\n",
    "    df,\n",
    "    ratios={\"train\": 0.6, \"val\": 0.2, \"test\": 0.2},\n",
    "    age_bins=(0, 40, 60, 120),\n",
    "    age_labels=(\"≤40\", \"41–60\", \"≥61\"),\n",
    "    random_state=2025,\n",
    ")\n",
    "\n",
    "idx = indices_from_subject_assign(df, assign)\n",
    "\n",
    "df_train = df.iloc[idx[\"train\"]]\n",
    "df_val   = df.iloc[idx[\"val\"]]\n",
    "df_test  = df.iloc[idx[\"test\"]]"
   ]
  }
 ],
 "metadata": {
  "kernelspec": {
   "display_name": "base",
   "language": "python",
   "name": "python3"
  },
  "language_info": {
   "codemirror_mode": {
    "name": "ipython",
    "version": 3
   },
   "file_extension": ".py",
   "mimetype": "text/x-python",
   "name": "python",
   "nbconvert_exporter": "python",
   "pygments_lexer": "ipython3",
   "version": "3.13.5"
  }
 },
 "nbformat": 4,
 "nbformat_minor": 5
}
