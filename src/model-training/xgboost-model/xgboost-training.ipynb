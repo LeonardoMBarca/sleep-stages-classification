{
 "cells": [
  {
   "cell_type": "code",
   "execution_count": null,
   "id": "a86f41c6",
   "metadata": {},
   "outputs": [],
   "source": [
    "# ==== 1. Imports ====\n",
    "import pandas as pd\n",
    "import numpy as np\n",
    "from sklearn.model_selection import train_test_split\n",
    "from sklearn.preprocessing import LabelEncoder, StandardScaler\n",
    "from sklearn.metrics import classification_report, confusion_matrix\n",
    "import xgboost as xgb\n",
    "import os \n"
   ]
  },
  {
   "cell_type": "code",
   "execution_count": null,
   "id": "11a46d1f",
   "metadata": {},
   "outputs": [],
   "source": [
    "# !pip install xgboost"
   ]
  },
  {
   "cell_type": "code",
   "execution_count": null,
   "id": "208b1a65",
   "metadata": {},
   "outputs": [],
   "source": [
    "from pathlib import Path\n",
    "import pandas as pd\n",
    "\n",
    "# raiz do projeto = 3 níveis acima do notebook atual\n",
    "base_dir = Path().resolve().parents[2]\n",
    "\n",
    "file_path = base_dir / \"datalake\" / \"data-for-model\" / \"sleep-cassette.parquet\"\n",
    "\n",
    "print(\"Lendo:\", file_path)\n",
    "df = pd.read_parquet(file_path, engine=\"fastparquet\")\n",
    "print(\"Shape:\", df.shape)\n",
    "display(df.head)\n"
   ]
  },
  {
   "cell_type": "code",
   "execution_count": null,
   "id": "11945d5a",
   "metadata": {},
   "outputs": [],
   "source": [
    "\n",
    "# ==== 3. Separar features e target ====\n",
    "X = df.drop(columns=[\"stage\", \"subject_id\", \"night_id\",\"sex\"])  # remove identificadores\n",
    "y = df[\"stage\"]\n",
    "\n",
    "display(X.head)\n",
    "\n"
   ]
  },
  {
   "cell_type": "code",
   "execution_count": null,
   "id": "53bf51ef",
   "metadata": {},
   "outputs": [],
   "source": [
    "# ==== 4. Encoder no target ====\n",
    "le = LabelEncoder()\n",
    "y_enc = le.fit_transform(y)\n",
    "\n",
    "# ==== 5. Treino / teste ====\n",
    "X_train, X_test, y_train, y_test = train_test_split(\n",
    "    X, y_enc, test_size=0.2, random_state=42, stratify=y_enc\n",
    ")\n",
    "\n",
    "# ==== 6. Escalar features ====\n",
    "scaler = StandardScaler()\n",
    "X_train = scaler.fit_transform(X_train)\n",
    "X_test = scaler.transform(X_test)\n",
    "\n",
    "# ==== 7. Modelo XGBoost ====\n",
    "model = xgb.XGBClassifier(\n",
    "    objective=\"multi:softmax\",\n",
    "    num_class=len(le.classes_),  # quantos estágios de sono\n",
    "    eval_metric=\"mlogloss\",\n",
    "    n_estimators=200,\n",
    "    max_depth=6,\n",
    "    learning_rate=0.1,\n",
    "    subsample=0.8,\n",
    "    colsample_bytree=0.8,\n",
    "    random_state=42,\n",
    "    n_jobs=-1\n",
    ")\n",
    "\n",
    "model.fit(X_train, y_train)\n",
    "\n"
   ]
  },
  {
   "cell_type": "code",
   "execution_count": null,
   "id": "a7bef261",
   "metadata": {},
   "outputs": [],
   "source": [
    "# ==== 8. Avaliação ====\n",
    "y_pred = model.predict(X_test)\n",
    "\n",
    "print(\"Classification Report:\")\n",
    "print(classification_report(y_test, y_pred, target_names=le.classes_))\n",
    "\n",
    "print(\"Confusion Matrix:\")\n",
    "print(confusion_matrix(y_test, y_pred))\n",
    "\n",
    "# ==== 9. Importância das features ====\n",
    "import matplotlib.pyplot as plt\n",
    "xgb.plot_importance(model, max_num_features=20, importance_type=\"gain\")\n",
    "plt.show()"
   ]
  },
  {
   "cell_type": "code",
   "execution_count": null,
   "id": "34c73ee0",
   "metadata": {},
   "outputs": [],
   "source": [
    "import numpy as np\n",
    "\n",
    "importances = model.feature_importances_\n",
    "indices = np.argsort(importances)[::-1]\n",
    "\n",
    "print(\"Top 20 features mais importantes:\")\n",
    "for i in indices[:20]:\n",
    "    print(f\"{X.columns[i]} -> {importances[i]:.4f}\")\n"
   ]
  }
 ],
 "metadata": {
  "kernelspec": {
   "display_name": ".venv (3.10.11)",
   "language": "python",
   "name": "python3"
  },
  "language_info": {
   "codemirror_mode": {
    "name": "ipython",
    "version": 3
   },
   "file_extension": ".py",
   "mimetype": "text/x-python",
   "name": "python",
   "nbconvert_exporter": "python",
   "pygments_lexer": "ipython3",
   "version": "3.10.11"
  }
 },
 "nbformat": 4,
 "nbformat_minor": 5
}
