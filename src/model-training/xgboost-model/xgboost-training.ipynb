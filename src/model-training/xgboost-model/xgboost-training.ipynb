{
 "cells": [
  {
   "cell_type": "markdown",
   "id": "0312d935",
   "metadata": {},
   "source": [
    "# Classificacao dos estagios do sono com XGBoost\n",
    "\n",
    "Este notebook organiza o pipeline de treino, validacao e teste para o modelo aplicado aos dados de estagios do sono."
   ]
  },
  {
   "cell_type": "code",
   "execution_count": 1,
   "id": "bb68b436",
   "metadata": {
    "execution": {
     "iopub.execute_input": "2025-10-03T12:06:04.809947Z",
     "iopub.status.busy": "2025-10-03T12:06:04.809405Z",
     "iopub.status.idle": "2025-10-03T12:06:06.195736Z",
     "shell.execute_reply": "2025-10-03T12:06:06.194799Z"
    }
   },
   "outputs": [],
   "source": [
    "import random\n",
    "from pathlib import Path\n",
    "\n",
    "import numpy as np\n",
    "import pandas as pd\n",
    "from sklearn.metrics import accuracy_score, balanced_accuracy_score, classification_report, confusion_matrix, f1_score, log_loss\n",
    "from sklearn.preprocessing import StandardScaler\n",
    "from xgboost import XGBClassifier"
   ]
  },
  {
   "cell_type": "markdown",
   "id": "d9881e0f",
   "metadata": {},
   "source": [
    "## Configuracao dos dados"
   ]
  },
  {
   "cell_type": "code",
   "execution_count": 2,
   "id": "6556a8ad",
   "metadata": {
    "execution": {
     "iopub.execute_input": "2025-10-03T12:06:06.199614Z",
     "iopub.status.busy": "2025-10-03T12:06:06.198233Z",
     "iopub.status.idle": "2025-10-03T12:06:06.455211Z",
     "shell.execute_reply": "2025-10-03T12:06:06.454622Z"
    }
   },
   "outputs": [],
   "source": [
    "BASE_PATH = Path().resolve()\n",
    "if not (BASE_PATH / \"datalake\").exists():\n",
    "    BASE_PATH = BASE_PATH.parents[2]\n",
    "DATASETS_PATH = BASE_PATH / \"datalake\" / \"data-for-model\"\n",
    "TRAINING_DATA_FILE = DATASETS_PATH / \"train\" / \"train_sleep_cassette.parquet\"\n",
    "VALIDATION_DATA_FILE = DATASETS_PATH / \"val\" / \"val_sleep_cassette.parquet\"\n",
    "TEST_DATA_FILE = DATASETS_PATH / \"test\" / \"test_sleep_cassette.parquet\"\n",
    "STAGES = [\"W\", \"N1\", \"N2\", \"N3\", \"REM\"]\n",
    "STAGE2ID = {stage: idx for idx, stage in enumerate(STAGES)}\n",
    "df_train = pd.read_parquet(TRAINING_DATA_FILE, engine=\"fastparquet\")\n",
    "df_val = pd.read_parquet(VALIDATION_DATA_FILE, engine=\"fastparquet\")\n",
    "df_test = pd.read_parquet(TEST_DATA_FILE, engine=\"fastparquet\")"
   ]
  },
  {
   "cell_type": "markdown",
   "id": "1579368e",
   "metadata": {},
   "source": [
    "## Preparacao das tabelas"
   ]
  },
  {
   "cell_type": "code",
   "execution_count": 3,
   "id": "2c87c332",
   "metadata": {
    "execution": {
     "iopub.execute_input": "2025-10-03T12:06:06.458075Z",
     "iopub.status.busy": "2025-10-03T12:06:06.457733Z",
     "iopub.status.idle": "2025-10-03T12:06:06.839610Z",
     "shell.execute_reply": "2025-10-03T12:06:06.838472Z"
    }
   },
   "outputs": [],
   "source": [
    "def set_seed(seed):\n",
    "    random.seed(seed)\n",
    "    np.random.seed(seed)\n",
    "\n",
    "SEED = 42\n",
    "set_seed(SEED)\n",
    "\n",
    "SEX_MAP = {\"F\": 0.0, \"M\": 1.0}\n",
    "frames = [df_train, df_val, df_test]\n",
    "for frame in frames:\n",
    "    frame[\"sex\"] = frame[\"sex\"].map(SEX_MAP).fillna(0.5).astype(np.float32)\n",
    "    frame[\"stage_id\"] = frame[\"stage\"].map(STAGE2ID).astype(np.int64)\n",
    "\n",
    "IDENTIFIERS = [\"subject_id\", \"night_id\", \"epoch_idx\", \"stage\", \"stage_id\"]\n",
    "FEATURES = [column for column in df_train.columns if column not in IDENTIFIERS]\n",
    "FEATURES.sort()\n",
    "\n",
    "scaler = StandardScaler()\n",
    "x_train = scaler.fit_transform(df_train[FEATURES]).astype(np.float32)\n",
    "x_val = scaler.transform(df_val[FEATURES]).astype(np.float32)\n",
    "x_test = scaler.transform(df_test[FEATURES]).astype(np.float32)\n",
    "\n",
    "y_train = df_train[\"stage_id\"].to_numpy(dtype=np.int64)\n",
    "y_val = df_val[\"stage_id\"].to_numpy(dtype=np.int64)\n",
    "y_test = df_test[\"stage_id\"].to_numpy(dtype=np.int64)\n",
    "\n",
    "class_distribution = df_train[\"stage_id\"].value_counts().sort_index()\n",
    "class_weights = (len(df_train) / (len(STAGES) * class_distribution)).astype(np.float64)\n",
    "weight_lookup = {idx: float(value) for idx, value in class_weights.items()}\n",
    "train_weights = np.array([weight_lookup[label] for label in y_train], dtype=np.float64)\n",
    "val_weights = np.array([weight_lookup[label] for label in y_val], dtype=np.float64)\n",
    "test_weights = np.array([weight_lookup[label] for label in y_test], dtype=np.float64)"
   ]
  },
  {
   "cell_type": "markdown",
   "id": "1800c0ee",
   "metadata": {},
   "source": [
    "## Distribuicao das classes no treino"
   ]
  },
  {
   "cell_type": "code",
   "execution_count": 4,
   "id": "d9bc0184",
   "metadata": {
    "execution": {
     "iopub.execute_input": "2025-10-03T12:06:06.844841Z",
     "iopub.status.busy": "2025-10-03T12:06:06.844541Z",
     "iopub.status.idle": "2025-10-03T12:06:06.861002Z",
     "shell.execute_reply": "2025-10-03T12:06:06.860053Z"
    }
   },
   "outputs": [
    {
     "data": {
      "text/html": [
       "<div>\n",
       "<style scoped>\n",
       "    .dataframe tbody tr th:only-of-type {\n",
       "        vertical-align: middle;\n",
       "    }\n",
       "\n",
       "    .dataframe tbody tr th {\n",
       "        vertical-align: top;\n",
       "    }\n",
       "\n",
       "    .dataframe thead th {\n",
       "        text-align: right;\n",
       "    }\n",
       "</style>\n",
       "<table border=\"1\" class=\"dataframe\">\n",
       "  <thead>\n",
       "    <tr style=\"text-align: right;\">\n",
       "      <th></th>\n",
       "      <th>stage</th>\n",
       "      <th>samples</th>\n",
       "      <th>proportion</th>\n",
       "    </tr>\n",
       "  </thead>\n",
       "  <tbody>\n",
       "    <tr>\n",
       "      <th>0</th>\n",
       "      <td>W</td>\n",
       "      <td>34935</td>\n",
       "      <td>0.309837</td>\n",
       "    </tr>\n",
       "    <tr>\n",
       "      <th>1</th>\n",
       "      <td>N1</td>\n",
       "      <td>13882</td>\n",
       "      <td>0.123119</td>\n",
       "    </tr>\n",
       "    <tr>\n",
       "      <th>2</th>\n",
       "      <td>N2</td>\n",
       "      <td>40344</td>\n",
       "      <td>0.357809</td>\n",
       "    </tr>\n",
       "    <tr>\n",
       "      <th>3</th>\n",
       "      <td>N3</td>\n",
       "      <td>8532</td>\n",
       "      <td>0.075670</td>\n",
       "    </tr>\n",
       "    <tr>\n",
       "      <th>4</th>\n",
       "      <td>REM</td>\n",
       "      <td>15060</td>\n",
       "      <td>0.133566</td>\n",
       "    </tr>\n",
       "  </tbody>\n",
       "</table>\n",
       "</div>"
      ],
      "text/plain": [
       "  stage  samples  proportion\n",
       "0     W    34935    0.309837\n",
       "1    N1    13882    0.123119\n",
       "2    N2    40344    0.357809\n",
       "3    N3     8532    0.075670\n",
       "4   REM    15060    0.133566"
      ]
     },
     "execution_count": 4,
     "metadata": {},
     "output_type": "execute_result"
    }
   ],
   "source": [
    "class_summary = pd.DataFrame({\n",
    "    \"stage\": STAGES,\n",
    "    \"samples\": [int(class_distribution.get(idx, 0)) for idx in range(len(STAGES))]\n",
    "})\n",
    "class_summary[\"proportion\"] = class_summary[\"samples\"] / class_summary[\"samples\"].sum()\n",
    "class_summary"
   ]
  },
  {
   "cell_type": "markdown",
   "id": "7c04dc0b",
   "metadata": {},
   "source": [
    "## Treinamento"
   ]
  },
  {
   "cell_type": "code",
   "execution_count": 5,
   "id": "2902abdf",
   "metadata": {
    "execution": {
     "iopub.execute_input": "2025-10-03T12:06:06.864476Z",
     "iopub.status.busy": "2025-10-03T12:06:06.864114Z",
     "iopub.status.idle": "2025-10-03T12:12:39.771675Z",
     "shell.execute_reply": "2025-10-03T12:12:39.770388Z"
    }
   },
   "outputs": [
    {
     "name": "stdout",
     "output_type": "stream",
     "text": [
      "[0]\tvalidation_0-mlogloss:1.54457\tvalidation_1-mlogloss:1.55252\n"
     ]
    },
    {
     "name": "stdout",
     "output_type": "stream",
     "text": [
      "[50]\tvalidation_0-mlogloss:0.54480\tvalidation_1-mlogloss:0.74415\n"
     ]
    },
    {
     "name": "stdout",
     "output_type": "stream",
     "text": [
      "[100]\tvalidation_0-mlogloss:0.37734\tvalidation_1-mlogloss:0.66304\n"
     ]
    },
    {
     "name": "stdout",
     "output_type": "stream",
     "text": [
      "[150]\tvalidation_0-mlogloss:0.31467\tvalidation_1-mlogloss:0.65086\n"
     ]
    },
    {
     "name": "stdout",
     "output_type": "stream",
     "text": [
      "[200]\tvalidation_0-mlogloss:0.27401\tvalidation_1-mlogloss:0.64612\n"
     ]
    },
    {
     "name": "stdout",
     "output_type": "stream",
     "text": [
      "[250]\tvalidation_0-mlogloss:0.23988\tvalidation_1-mlogloss:0.64401\n"
     ]
    },
    {
     "name": "stdout",
     "output_type": "stream",
     "text": [
      "[300]\tvalidation_0-mlogloss:0.21243\tvalidation_1-mlogloss:0.64360\n"
     ]
    },
    {
     "name": "stdout",
     "output_type": "stream",
     "text": [
      "[350]\tvalidation_0-mlogloss:0.18874\tvalidation_1-mlogloss:0.64450\n"
     ]
    },
    {
     "name": "stdout",
     "output_type": "stream",
     "text": [
      "[400]\tvalidation_0-mlogloss:0.16781\tvalidation_1-mlogloss:0.64531\n"
     ]
    },
    {
     "name": "stdout",
     "output_type": "stream",
     "text": [
      "[450]\tvalidation_0-mlogloss:0.15008\tvalidation_1-mlogloss:0.64692\n"
     ]
    },
    {
     "name": "stdout",
     "output_type": "stream",
     "text": [
      "[500]\tvalidation_0-mlogloss:0.13522\tvalidation_1-mlogloss:0.64904\n"
     ]
    },
    {
     "name": "stdout",
     "output_type": "stream",
     "text": [
      "[550]\tvalidation_0-mlogloss:0.12227\tvalidation_1-mlogloss:0.65125\n"
     ]
    },
    {
     "name": "stdout",
     "output_type": "stream",
     "text": [
      "[600]\tvalidation_0-mlogloss:0.11003\tvalidation_1-mlogloss:0.65295\n"
     ]
    },
    {
     "name": "stdout",
     "output_type": "stream",
     "text": [
      "[650]\tvalidation_0-mlogloss:0.09983\tvalidation_1-mlogloss:0.65631\n"
     ]
    },
    {
     "name": "stdout",
     "output_type": "stream",
     "text": [
      "[700]\tvalidation_0-mlogloss:0.09058\tvalidation_1-mlogloss:0.66118\n"
     ]
    },
    {
     "name": "stdout",
     "output_type": "stream",
     "text": [
      "[750]\tvalidation_0-mlogloss:0.08235\tvalidation_1-mlogloss:0.66545\n"
     ]
    },
    {
     "name": "stdout",
     "output_type": "stream",
     "text": [
      "[800]\tvalidation_0-mlogloss:0.07500\tvalidation_1-mlogloss:0.66950\n"
     ]
    },
    {
     "name": "stdout",
     "output_type": "stream",
     "text": [
      "[850]\tvalidation_0-mlogloss:0.06842\tvalidation_1-mlogloss:0.67286\n"
     ]
    },
    {
     "name": "stdout",
     "output_type": "stream",
     "text": [
      "[900]\tvalidation_0-mlogloss:0.06243\tvalidation_1-mlogloss:0.67710\n"
     ]
    },
    {
     "name": "stdout",
     "output_type": "stream",
     "text": [
      "[950]\tvalidation_0-mlogloss:0.05734\tvalidation_1-mlogloss:0.68125\n"
     ]
    },
    {
     "name": "stdout",
     "output_type": "stream",
     "text": [
      "[1000]\tvalidation_0-mlogloss:0.05255\tvalidation_1-mlogloss:0.68535\n"
     ]
    },
    {
     "name": "stdout",
     "output_type": "stream",
     "text": [
      "[1050]\tvalidation_0-mlogloss:0.04831\tvalidation_1-mlogloss:0.69104\n"
     ]
    },
    {
     "name": "stdout",
     "output_type": "stream",
     "text": [
      "[1100]\tvalidation_0-mlogloss:0.04433\tvalidation_1-mlogloss:0.69620\n"
     ]
    },
    {
     "name": "stdout",
     "output_type": "stream",
     "text": [
      "[1150]\tvalidation_0-mlogloss:0.04087\tvalidation_1-mlogloss:0.70017\n"
     ]
    },
    {
     "name": "stdout",
     "output_type": "stream",
     "text": [
      "[1200]\tvalidation_0-mlogloss:0.03767\tvalidation_1-mlogloss:0.70479\n"
     ]
    },
    {
     "name": "stdout",
     "output_type": "stream",
     "text": [
      "[1250]\tvalidation_0-mlogloss:0.03499\tvalidation_1-mlogloss:0.71019\n"
     ]
    },
    {
     "name": "stdout",
     "output_type": "stream",
     "text": [
      "[1300]\tvalidation_0-mlogloss:0.03252\tvalidation_1-mlogloss:0.71452\n"
     ]
    },
    {
     "name": "stdout",
     "output_type": "stream",
     "text": [
      "[1350]\tvalidation_0-mlogloss:0.03022\tvalidation_1-mlogloss:0.71927\n"
     ]
    },
    {
     "name": "stdout",
     "output_type": "stream",
     "text": [
      "[1400]\tvalidation_0-mlogloss:0.02823\tvalidation_1-mlogloss:0.72324\n"
     ]
    },
    {
     "name": "stdout",
     "output_type": "stream",
     "text": [
      "[1450]\tvalidation_0-mlogloss:0.02655\tvalidation_1-mlogloss:0.72776\n"
     ]
    },
    {
     "name": "stdout",
     "output_type": "stream",
     "text": [
      "[1500]\tvalidation_0-mlogloss:0.02513\tvalidation_1-mlogloss:0.73150\n"
     ]
    },
    {
     "name": "stdout",
     "output_type": "stream",
     "text": [
      "[1550]\tvalidation_0-mlogloss:0.02394\tvalidation_1-mlogloss:0.73440\n"
     ]
    },
    {
     "name": "stdout",
     "output_type": "stream",
     "text": [
      "[1599]\tvalidation_0-mlogloss:0.02304\tvalidation_1-mlogloss:0.73674\n"
     ]
    },
    {
     "name": "stdout",
     "output_type": "stream",
     "text": [
      "melhor iteracao valida: 287 de 1600\n"
     ]
    }
   ],
   "source": [
    "train_weights_array = train_weights\n",
    "val_weights_array = val_weights\n",
    "model = XGBClassifier(\n",
    "    objective=\"multi:softprob\",\n",
    "    num_class=len(STAGES),\n",
    "    learning_rate=0.045,\n",
    "    max_depth=8,\n",
    "    n_estimators=1600,\n",
    "    subsample=0.85,\n",
    "    colsample_bytree=0.7,\n",
    "    min_child_weight=3,\n",
    "    gamma=0.1,\n",
    "    reg_lambda=1.2,\n",
    "    reg_alpha=0.05,\n",
    "    tree_method=\"hist\",\n",
    "    random_state=SEED,\n",
    "    n_jobs=-1,\n",
    "    eval_metric=\"mlogloss\")\n",
    "model.fit(\n",
    "    x_train,\n",
    "    y_train,\n",
    "    sample_weight=train_weights_array,\n",
    "    eval_set=[(x_train, y_train), (x_val, y_val)],\n",
    "    verbose=50\n",
    ")\n",
    "history = model.evals_result()\n",
    "val_logloss = history[\"validation_1\"][\"mlogloss\"]\n",
    "best_iteration = int(np.argmin(val_logloss))\n",
    "print(f\"melhor iteracao valida: {best_iteration + 1} de {len(val_logloss)}\")"
   ]
  },
  {
   "cell_type": "markdown",
   "id": "ae6e5824",
   "metadata": {},
   "source": [
    "## Historico de treino"
   ]
  },
  {
   "cell_type": "code",
   "execution_count": 6,
   "id": "8179a9af",
   "metadata": {
    "execution": {
     "iopub.execute_input": "2025-10-03T12:12:39.776760Z",
     "iopub.status.busy": "2025-10-03T12:12:39.776317Z",
     "iopub.status.idle": "2025-10-03T12:12:39.796872Z",
     "shell.execute_reply": "2025-10-03T12:12:39.795342Z"
    }
   },
   "outputs": [
    {
     "data": {
      "text/html": [
       "<div>\n",
       "<style scoped>\n",
       "    .dataframe tbody tr th:only-of-type {\n",
       "        vertical-align: middle;\n",
       "    }\n",
       "\n",
       "    .dataframe tbody tr th {\n",
       "        vertical-align: top;\n",
       "    }\n",
       "\n",
       "    .dataframe thead th {\n",
       "        text-align: right;\n",
       "    }\n",
       "</style>\n",
       "<table border=\"1\" class=\"dataframe\">\n",
       "  <thead>\n",
       "    <tr style=\"text-align: right;\">\n",
       "      <th></th>\n",
       "      <th>iteration</th>\n",
       "      <th>train_logloss</th>\n",
       "      <th>val_logloss</th>\n",
       "      <th>train_error</th>\n",
       "      <th>val_error</th>\n",
       "    </tr>\n",
       "  </thead>\n",
       "  <tbody>\n",
       "    <tr>\n",
       "      <th>0</th>\n",
       "      <td>1</td>\n",
       "      <td>1.544570</td>\n",
       "      <td>1.552517</td>\n",
       "      <td>NaN</td>\n",
       "      <td>NaN</td>\n",
       "    </tr>\n",
       "    <tr>\n",
       "      <th>1</th>\n",
       "      <td>2</td>\n",
       "      <td>1.485018</td>\n",
       "      <td>1.501703</td>\n",
       "      <td>NaN</td>\n",
       "      <td>NaN</td>\n",
       "    </tr>\n",
       "    <tr>\n",
       "      <th>2</th>\n",
       "      <td>3</td>\n",
       "      <td>1.431268</td>\n",
       "      <td>1.454975</td>\n",
       "      <td>NaN</td>\n",
       "      <td>NaN</td>\n",
       "    </tr>\n",
       "    <tr>\n",
       "      <th>3</th>\n",
       "      <td>4</td>\n",
       "      <td>1.381056</td>\n",
       "      <td>1.411105</td>\n",
       "      <td>NaN</td>\n",
       "      <td>NaN</td>\n",
       "    </tr>\n",
       "    <tr>\n",
       "      <th>4</th>\n",
       "      <td>5</td>\n",
       "      <td>1.334321</td>\n",
       "      <td>1.371404</td>\n",
       "      <td>NaN</td>\n",
       "      <td>NaN</td>\n",
       "    </tr>\n",
       "    <tr>\n",
       "      <th>...</th>\n",
       "      <td>...</td>\n",
       "      <td>...</td>\n",
       "      <td>...</td>\n",
       "      <td>...</td>\n",
       "      <td>...</td>\n",
       "    </tr>\n",
       "    <tr>\n",
       "      <th>1595</th>\n",
       "      <td>1596</td>\n",
       "      <td>0.023084</td>\n",
       "      <td>0.736642</td>\n",
       "      <td>NaN</td>\n",
       "      <td>NaN</td>\n",
       "    </tr>\n",
       "    <tr>\n",
       "      <th>1596</th>\n",
       "      <td>1597</td>\n",
       "      <td>0.023077</td>\n",
       "      <td>0.736669</td>\n",
       "      <td>NaN</td>\n",
       "      <td>NaN</td>\n",
       "    </tr>\n",
       "    <tr>\n",
       "      <th>1597</th>\n",
       "      <td>1598</td>\n",
       "      <td>0.023060</td>\n",
       "      <td>0.736681</td>\n",
       "      <td>NaN</td>\n",
       "      <td>NaN</td>\n",
       "    </tr>\n",
       "    <tr>\n",
       "      <th>1598</th>\n",
       "      <td>1599</td>\n",
       "      <td>0.023054</td>\n",
       "      <td>0.736717</td>\n",
       "      <td>NaN</td>\n",
       "      <td>NaN</td>\n",
       "    </tr>\n",
       "    <tr>\n",
       "      <th>1599</th>\n",
       "      <td>1600</td>\n",
       "      <td>0.023040</td>\n",
       "      <td>0.736743</td>\n",
       "      <td>NaN</td>\n",
       "      <td>NaN</td>\n",
       "    </tr>\n",
       "  </tbody>\n",
       "</table>\n",
       "<p>1600 rows × 5 columns</p>\n",
       "</div>"
      ],
      "text/plain": [
       "      iteration  train_logloss  val_logloss  train_error  val_error\n",
       "0             1       1.544570     1.552517          NaN        NaN\n",
       "1             2       1.485018     1.501703          NaN        NaN\n",
       "2             3       1.431268     1.454975          NaN        NaN\n",
       "3             4       1.381056     1.411105          NaN        NaN\n",
       "4             5       1.334321     1.371404          NaN        NaN\n",
       "...         ...            ...          ...          ...        ...\n",
       "1595       1596       0.023084     0.736642          NaN        NaN\n",
       "1596       1597       0.023077     0.736669          NaN        NaN\n",
       "1597       1598       0.023060     0.736681          NaN        NaN\n",
       "1598       1599       0.023054     0.736717          NaN        NaN\n",
       "1599       1600       0.023040     0.736743          NaN        NaN\n",
       "\n",
       "[1600 rows x 5 columns]"
      ]
     },
     "execution_count": 6,
     "metadata": {},
     "output_type": "execute_result"
    }
   ],
   "source": [
    "history_df = pd.DataFrame({\n",
    "    \"iteration\": np.arange(1, len(history[\"validation_0\"][\"mlogloss\"]) + 1),\n",
    "    \"train_logloss\": history[\"validation_0\"][\"mlogloss\"],\n",
    "    \"val_logloss\": history[\"validation_1\"][\"mlogloss\"],\n",
    "    \"train_error\": history[\"validation_0\"].get(\"merror\", [np.nan] * len(history[\"validation_0\"][\"mlogloss\"])),\n",
    "    \"val_error\": history[\"validation_1\"].get(\"merror\", [np.nan] * len(history[\"validation_1\"][\"mlogloss\"]))\n",
    "})\n",
    "history_df"
   ]
  },
  {
   "cell_type": "markdown",
   "id": "7ca66442",
   "metadata": {},
   "source": [
    "## Avaliacao no conjunto de teste"
   ]
  },
  {
   "cell_type": "code",
   "execution_count": 7,
   "id": "9cdd0418",
   "metadata": {
    "execution": {
     "iopub.execute_input": "2025-10-03T12:12:39.801388Z",
     "iopub.status.busy": "2025-10-03T12:12:39.800982Z",
     "iopub.status.idle": "2025-10-03T12:12:41.476066Z",
     "shell.execute_reply": "2025-10-03T12:12:41.474730Z"
    }
   },
   "outputs": [
    {
     "name": "stdout",
     "output_type": "stream",
     "text": [
      "           metric    value\n",
      "             loss 0.588359\n",
      "         accuracy 0.777412\n",
      "balanced_accuracy 0.724430\n",
      "         macro_f1 0.712344\n",
      "\n",
      "              precision  recall  f1-score  support\n",
      "W                 0.903   0.880     0.891  11429.0\n",
      "N1                0.365   0.435     0.397   3425.0\n",
      "N2                0.848   0.806     0.826  13722.0\n",
      "N3                0.712   0.808     0.757   1983.0\n",
      "REM               0.687   0.694     0.690   5319.0\n",
      "macro avg         0.703   0.724     0.712  35878.0\n",
      "weighted avg      0.788   0.777     0.782  35878.0\n",
      "\n",
      "         W    N1     N2    N3   REM\n",
      "W    10054   847    144     7   377\n",
      "N1     560  1491    746     9   619\n",
      "N2     143  1214  11056   626   683\n",
      "N3       4    13    364  1602     0\n",
      "REM    370   523    731     6  3689\n"
     ]
    }
   ],
   "source": [
    "iteration_range = (0, best_iteration + 1)\n",
    "val_predictions = model.predict(x_val, iteration_range=iteration_range)\n",
    "test_predictions = model.predict(x_test, iteration_range=iteration_range)\n",
    "test_probabilities = model.predict_proba(x_test, iteration_range=iteration_range)\n",
    "test_loss = log_loss(y_test, test_probabilities)\n",
    "test_accuracy = accuracy_score(y_test, test_predictions)\n",
    "test_balanced_acc = balanced_accuracy_score(y_test, test_predictions)\n",
    "test_macro_f1 = f1_score(y_test, test_predictions, average=\"macro\")\n",
    "summary = pd.DataFrame({\n",
    "    \"metric\": [\"loss\", \"accuracy\", \"balanced_accuracy\", \"macro_f1\"],\n",
    "    \"value\": [test_loss, test_accuracy, test_balanced_acc, test_macro_f1]\n",
    "})\n",
    "print(summary.to_string(index=False))\n",
    "print()\n",
    "report = classification_report(y_test, test_predictions, target_names=STAGES, output_dict=True)\n",
    "report_df = pd.DataFrame(report).transpose()\n",
    "report_table = report_df.loc[STAGES + [\"macro avg\", \"weighted avg\"], [\"precision\", \"recall\", \"f1-score\", \"support\"]]\n",
    "print(report_table.round(3).to_string())\n",
    "print()\n",
    "confusion = confusion_matrix(y_test, test_predictions)\n",
    "confusion_df = pd.DataFrame(confusion, index=STAGES, columns=STAGES)\n",
    "print(confusion_df)"
   ]
  },
  {
   "cell_type": "markdown",
   "id": "f00959c0",
   "metadata": {},
   "source": [
    "## Analise adicional"
   ]
  },
  {
   "cell_type": "code",
   "execution_count": 8,
   "id": "a557ff6b",
   "metadata": {
    "execution": {
     "iopub.execute_input": "2025-10-03T12:12:41.480619Z",
     "iopub.status.busy": "2025-10-03T12:12:41.480031Z",
     "iopub.status.idle": "2025-10-03T12:12:41.518359Z",
     "shell.execute_reply": "2025-10-03T12:12:41.517079Z"
    }
   },
   "outputs": [
    {
     "data": {
      "text/html": [
       "<div>\n",
       "<style scoped>\n",
       "    .dataframe tbody tr th:only-of-type {\n",
       "        vertical-align: middle;\n",
       "    }\n",
       "\n",
       "    .dataframe tbody tr th {\n",
       "        vertical-align: top;\n",
       "    }\n",
       "\n",
       "    .dataframe thead th {\n",
       "        text-align: right;\n",
       "    }\n",
       "</style>\n",
       "<table border=\"1\" class=\"dataframe\">\n",
       "  <thead>\n",
       "    <tr style=\"text-align: right;\">\n",
       "      <th></th>\n",
       "      <th>importance</th>\n",
       "    </tr>\n",
       "  </thead>\n",
       "  <tbody>\n",
       "    <tr>\n",
       "      <th>EEG_Fpz_Cz_beta_relpow_256</th>\n",
       "      <td>0.139073</td>\n",
       "    </tr>\n",
       "    <tr>\n",
       "      <th>EEG_Pz_Oz_aperiodic_slope_256</th>\n",
       "      <td>0.067852</td>\n",
       "    </tr>\n",
       "    <tr>\n",
       "      <th>EEG_Pz_Oz_beta_relpow_256_roll_mean_5</th>\n",
       "      <td>0.045061</td>\n",
       "    </tr>\n",
       "    <tr>\n",
       "      <th>EEG_Pz_Oz_beta_relpow_256_roll_mean_10</th>\n",
       "      <td>0.038024</td>\n",
       "    </tr>\n",
       "    <tr>\n",
       "      <th>EEG_Fpz_Cz_theta_relpow_256_roll_mean_5</th>\n",
       "      <td>0.036534</td>\n",
       "    </tr>\n",
       "    <tr>\n",
       "      <th>EOG_rms_roll_mean_5</th>\n",
       "      <td>0.036114</td>\n",
       "    </tr>\n",
       "    <tr>\n",
       "      <th>EOG_sef95_256</th>\n",
       "      <td>0.027828</td>\n",
       "    </tr>\n",
       "    <tr>\n",
       "      <th>EMG_submental_median_1hz_roll_mean_5</th>\n",
       "      <td>0.026634</td>\n",
       "    </tr>\n",
       "    <tr>\n",
       "      <th>EEG_Pz_Oz_beta_relpow_256</th>\n",
       "      <td>0.024590</td>\n",
       "    </tr>\n",
       "    <tr>\n",
       "      <th>EEG_Pz_Oz_delta_relpow_256</th>\n",
       "      <td>0.023041</td>\n",
       "    </tr>\n",
       "    <tr>\n",
       "      <th>EEG_Fpz_Cz_theta_alpha_ratio_256_roll_mean_5</th>\n",
       "      <td>0.022135</td>\n",
       "    </tr>\n",
       "    <tr>\n",
       "      <th>EOG_delta_relpow_256</th>\n",
       "      <td>0.020741</td>\n",
       "    </tr>\n",
       "    <tr>\n",
       "      <th>age</th>\n",
       "      <td>0.019379</td>\n",
       "    </tr>\n",
       "    <tr>\n",
       "      <th>EEG_Fpz_Cz_aperiodic_slope_256</th>\n",
       "      <td>0.019306</td>\n",
       "    </tr>\n",
       "    <tr>\n",
       "      <th>EOG_rms_roll_std_5</th>\n",
       "      <td>0.018489</td>\n",
       "    </tr>\n",
       "    <tr>\n",
       "      <th>EEG_Fpz_Cz_spec_entropy_256</th>\n",
       "      <td>0.018062</td>\n",
       "    </tr>\n",
       "    <tr>\n",
       "      <th>EOG_rms_roll_mean_10</th>\n",
       "      <td>0.016824</td>\n",
       "    </tr>\n",
       "    <tr>\n",
       "      <th>EMG_submental_median_1hz</th>\n",
       "      <td>0.016610</td>\n",
       "    </tr>\n",
       "    <tr>\n",
       "      <th>sex</th>\n",
       "      <td>0.016532</td>\n",
       "    </tr>\n",
       "    <tr>\n",
       "      <th>EOG_rms</th>\n",
       "      <td>0.016484</td>\n",
       "    </tr>\n",
       "  </tbody>\n",
       "</table>\n",
       "</div>"
      ],
      "text/plain": [
       "                                              importance\n",
       "EEG_Fpz_Cz_beta_relpow_256                      0.139073\n",
       "EEG_Pz_Oz_aperiodic_slope_256                   0.067852\n",
       "EEG_Pz_Oz_beta_relpow_256_roll_mean_5           0.045061\n",
       "EEG_Pz_Oz_beta_relpow_256_roll_mean_10          0.038024\n",
       "EEG_Fpz_Cz_theta_relpow_256_roll_mean_5         0.036534\n",
       "EOG_rms_roll_mean_5                             0.036114\n",
       "EOG_sef95_256                                   0.027828\n",
       "EMG_submental_median_1hz_roll_mean_5            0.026634\n",
       "EEG_Pz_Oz_beta_relpow_256                       0.024590\n",
       "EEG_Pz_Oz_delta_relpow_256                      0.023041\n",
       "EEG_Fpz_Cz_theta_alpha_ratio_256_roll_mean_5    0.022135\n",
       "EOG_delta_relpow_256                            0.020741\n",
       "age                                             0.019379\n",
       "EEG_Fpz_Cz_aperiodic_slope_256                  0.019306\n",
       "EOG_rms_roll_std_5                              0.018489\n",
       "EEG_Fpz_Cz_spec_entropy_256                     0.018062\n",
       "EOG_rms_roll_mean_10                            0.016824\n",
       "EMG_submental_median_1hz                        0.016610\n",
       "sex                                             0.016532\n",
       "EOG_rms                                         0.016484"
      ]
     },
     "execution_count": 8,
     "metadata": {},
     "output_type": "execute_result"
    }
   ],
   "source": [
    "importances = pd.Series(model.feature_importances_, index=FEATURES)\n",
    "top_importances = importances.sort_values(ascending=False).head(20)\n",
    "top_importances.to_frame(name=\"importance\")"
   ]
  }
 ],
 "metadata": {
  "language_info": {
   "codemirror_mode": {
    "name": "ipython",
    "version": 3
   },
   "file_extension": ".py",
   "mimetype": "text/x-python",
   "name": "python",
   "nbconvert_exporter": "python",
   "pygments_lexer": "ipython3",
   "version": "3.13.5"
  }
 },
 "nbformat": 4,
 "nbformat_minor": 5
}
